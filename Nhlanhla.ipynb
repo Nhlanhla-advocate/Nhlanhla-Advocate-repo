{
  "nbformat": 4,
  "nbformat_minor": 0,
  "metadata": {
    "colab": {
      "provenance": [],
      "authorship_tag": "ABX9TyP/2ss0BIwmoN/kNoLsq3jB",
      "include_colab_link": true
    },
    "kernelspec": {
      "name": "python3",
      "display_name": "Python 3"
    },
    "language_info": {
      "name": "python"
    }
  },
  "cells": [
    {
      "cell_type": "markdown",
      "metadata": {
        "id": "view-in-github",
        "colab_type": "text"
      },
      "source": [
        "<a href=\"https://colab.research.google.com/github/Nhlanhla-advocate/Nhlanhla-Advocate-repo/blob/main/Nhlanhla.ipynb\" target=\"_parent\"><img src=\"https://colab.research.google.com/assets/colab-badge.svg\" alt=\"Open In Colab\"/></a>"
      ]
    },
    {
      "cell_type": "code",
      "execution_count": 27,
      "metadata": {
        "colab": {
          "base_uri": "https://localhost:8080/",
          "height": 645
        },
        "id": "hgHfsCVwGIAi",
        "outputId": "6c5e0870-151b-468f-9bff-e8358984cc94"
      },
      "outputs": [
        {
          "output_type": "stream",
          "name": "stdout",
          "text": [
            "Setting queue=True in a Colab notebook requires sharing enabled. Setting `share=True` (you can turn this off by setting `share=False` in `launch()` explicitly).\n",
            "\n",
            "Colab notebook detected. To show errors in colab notebook, set debug=True in launch()\n",
            "Running on public URL: https://09d226ff7bcf0ffa0b.gradio.live\n",
            "\n",
            "This share link expires in 72 hours. For free permanent hosting and GPU upgrades, run `gradio deploy` from Terminal to deploy to Spaces (https://huggingface.co/spaces)\n"
          ]
        },
        {
          "output_type": "display_data",
          "data": {
            "text/plain": [
              "<IPython.core.display.HTML object>"
            ],
            "text/html": [
              "<div><iframe src=\"https://09d226ff7bcf0ffa0b.gradio.live\" width=\"100%\" height=\"500\" allow=\"autoplay; camera; microphone; clipboard-read; clipboard-write;\" frameborder=\"0\" allowfullscreen></iframe></div>"
            ]
          },
          "metadata": {}
        },
        {
          "output_type": "execute_result",
          "data": {
            "text/plain": []
          },
          "metadata": {},
          "execution_count": 27
        }
      ],
      "source": [
        "import cv2\n",
        "import gradio as gr\n",
        "import os\n",
        "from transformers import pipeline\n",
        "from PIL import Image\n",
        "\n",
        "# Initialize the image captioning pipeline\n",
        "captioner = pipeline(\"image-to-text\", model=\"Salesforce/blip-image-captioning-base\")\n",
        "\n",
        "def process_video(video_path, frame_skip=100):\n",
        "    # Open the video file using OpenCV\n",
        "    cap = cv2.VideoCapture(video_path)\n",
        "\n",
        "    if not cap.isOpened():\n",
        "        return \"Error: Could not open video.\"\n",
        "    frame_captions_dict = {}\n",
        "    frame_count = 0\n",
        "    captions = []\n",
        "\n",
        "    while True:\n",
        "        ret, frame = cap.read()\n",
        "        if not ret:\n",
        "            break\n",
        "\n",
        "        if frame_count % frame_skip == 0:\n",
        "            try:\n",
        "                # Convert the OpenCV frame (BGR) to a PIL image (RGB)\n",
        "                image = Image.fromarray(cv2.cvtColor(frame, cv2.COLOR_BGR2RGB))\n",
        "\n",
        "                # Generate caption using the Hugging Face pipeline\n",
        "                caption = captioner(image, max_new_tokens=50)[0]['generated_text']\n",
        "                print(f\"Caption generated for frame {frame_count}: {caption}\")\n",
        "\n",
        "                # Store caption in both the dictionary and list\n",
        "                frame_captions_dict[frame_count] = caption\n",
        "                #captions.append((frame_count, caption))\n",
        "\n",
        "            except Exception as e:\n",
        "                print(f\"Error processing frame {frame_count}: {e}\")\n",
        "                continue\n",
        "\n",
        "        frame_count += 1\n",
        "\n",
        "    cap.release()  # Release the video capture object\n",
        "\n",
        "    # Return the generated captions dictionary\n",
        "    return frame_captions_dict\n",
        "\n",
        "# Create the Gradio interface\n",
        "iface = gr.Interface(\n",
        "    fn=process_video,\n",
        "    inputs=[\n",
        "        gr.Video(label=\"Upload Video\"),\n",
        "        gr.Slider(1, 200, value=100, step=1, label=\"Frame Skip Rate (1 = Every Frame)\")\n",
        "    ],\n",
        "    outputs=gr.JSON(label=\"Generated Captions\"),\n",
        "    title=\"Let's do something awesome\",\n",
        "    description=\"Upload a video.\"\n",
        ")\n",
        "\n",
        "# Launch the Gradio app\n",
        "iface.launch()\n"
      ]
    }
  ]
}